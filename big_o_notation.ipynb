{
 "cells": [
  {
   "cell_type": "code",
   "execution_count": 1,
   "metadata": {},
   "outputs": [],
   "source": [
    "import matplotlib.pyplot as plt\n",
    "import numpy as np"
   ]
  },
  {
   "cell_type": "code",
   "execution_count": null,
   "metadata": {},
   "outputs": [],
   "source": [
    "plt.title('Big O Notation')\n",
    "plt.xlabel('Elements')\n",
    "plt.ylabel('Operations')"
   ]
  }
 ],
 "metadata": {
  "interpreter": {
   "hash": "d4254dfede92ed85b1e7effbb0ae0c06b8ef5710a6a6be3bdd84af0ac16bdfc5"
  },
  "kernelspec": {
   "display_name": "Python 3.9.9 64-bit ('codeup': conda)",
   "language": "python",
   "name": "python3"
  },
  "language_info": {
   "codemirror_mode": {
    "name": "ipython",
    "version": 3
   },
   "file_extension": ".py",
   "mimetype": "text/x-python",
   "name": "python",
   "nbconvert_exporter": "python",
   "pygments_lexer": "ipython3",
   "version": "3.9.9"
  },
  "orig_nbformat": 4
 },
 "nbformat": 4,
 "nbformat_minor": 2
}
